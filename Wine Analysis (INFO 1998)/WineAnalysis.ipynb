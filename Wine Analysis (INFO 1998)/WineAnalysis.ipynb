{
 "cells": [
  {
   "cell_type": "markdown",
   "metadata": {},
   "source": [
    "# Predicting Wine Quality\n",
    "In this project, we attempt to use a number of quantitative measures to predict judged wine quality. In order to do so, we use a number of different statistical models and visualizations to understand and interpret the data as well as analyze the performance of these models."
   ]
  },
  {
   "cell_type": "code",
   "execution_count": 1,
   "metadata": {},
   "outputs": [
    {
     "data": {
      "text/html": [
       "<div>\n",
       "<style scoped>\n",
       "    .dataframe tbody tr th:only-of-type {\n",
       "        vertical-align: middle;\n",
       "    }\n",
       "\n",
       "    .dataframe tbody tr th {\n",
       "        vertical-align: top;\n",
       "    }\n",
       "\n",
       "    .dataframe thead th {\n",
       "        text-align: right;\n",
       "    }\n",
       "</style>\n",
       "<table border=\"1\" class=\"dataframe\">\n",
       "  <thead>\n",
       "    <tr style=\"text-align: right;\">\n",
       "      <th></th>\n",
       "      <th>fixed acidity</th>\n",
       "      <th>volatile acidity</th>\n",
       "      <th>citric acid</th>\n",
       "      <th>residual sugar</th>\n",
       "      <th>chlorides</th>\n",
       "      <th>free sulfur dioxide</th>\n",
       "      <th>total sulfur dioxide</th>\n",
       "      <th>density</th>\n",
       "      <th>pH</th>\n",
       "      <th>sulphates</th>\n",
       "      <th>alcohol</th>\n",
       "      <th>quality</th>\n",
       "    </tr>\n",
       "  </thead>\n",
       "  <tbody>\n",
       "    <tr>\n",
       "      <th>0</th>\n",
       "      <td>7.4</td>\n",
       "      <td>0.70</td>\n",
       "      <td>0.00</td>\n",
       "      <td>1.9</td>\n",
       "      <td>0.076</td>\n",
       "      <td>11.0</td>\n",
       "      <td>34.0</td>\n",
       "      <td>0.9978</td>\n",
       "      <td>3.51</td>\n",
       "      <td>0.56</td>\n",
       "      <td>9.4</td>\n",
       "      <td>5</td>\n",
       "    </tr>\n",
       "    <tr>\n",
       "      <th>1</th>\n",
       "      <td>7.8</td>\n",
       "      <td>0.88</td>\n",
       "      <td>0.00</td>\n",
       "      <td>2.6</td>\n",
       "      <td>0.098</td>\n",
       "      <td>25.0</td>\n",
       "      <td>67.0</td>\n",
       "      <td>0.9968</td>\n",
       "      <td>3.20</td>\n",
       "      <td>0.68</td>\n",
       "      <td>9.8</td>\n",
       "      <td>5</td>\n",
       "    </tr>\n",
       "    <tr>\n",
       "      <th>2</th>\n",
       "      <td>7.8</td>\n",
       "      <td>0.76</td>\n",
       "      <td>0.04</td>\n",
       "      <td>2.3</td>\n",
       "      <td>0.092</td>\n",
       "      <td>15.0</td>\n",
       "      <td>54.0</td>\n",
       "      <td>0.9970</td>\n",
       "      <td>3.26</td>\n",
       "      <td>0.65</td>\n",
       "      <td>9.8</td>\n",
       "      <td>5</td>\n",
       "    </tr>\n",
       "    <tr>\n",
       "      <th>3</th>\n",
       "      <td>11.2</td>\n",
       "      <td>0.28</td>\n",
       "      <td>0.56</td>\n",
       "      <td>1.9</td>\n",
       "      <td>0.075</td>\n",
       "      <td>17.0</td>\n",
       "      <td>60.0</td>\n",
       "      <td>0.9980</td>\n",
       "      <td>3.16</td>\n",
       "      <td>0.58</td>\n",
       "      <td>9.8</td>\n",
       "      <td>6</td>\n",
       "    </tr>\n",
       "    <tr>\n",
       "      <th>4</th>\n",
       "      <td>7.4</td>\n",
       "      <td>0.70</td>\n",
       "      <td>0.00</td>\n",
       "      <td>1.9</td>\n",
       "      <td>0.076</td>\n",
       "      <td>11.0</td>\n",
       "      <td>34.0</td>\n",
       "      <td>0.9978</td>\n",
       "      <td>3.51</td>\n",
       "      <td>0.56</td>\n",
       "      <td>9.4</td>\n",
       "      <td>5</td>\n",
       "    </tr>\n",
       "  </tbody>\n",
       "</table>\n",
       "</div>"
      ],
      "text/plain": [
       "   fixed acidity  volatile acidity  citric acid  residual sugar  chlorides  \\\n",
       "0            7.4              0.70         0.00             1.9      0.076   \n",
       "1            7.8              0.88         0.00             2.6      0.098   \n",
       "2            7.8              0.76         0.04             2.3      0.092   \n",
       "3           11.2              0.28         0.56             1.9      0.075   \n",
       "4            7.4              0.70         0.00             1.9      0.076   \n",
       "\n",
       "   free sulfur dioxide  total sulfur dioxide  density    pH  sulphates  \\\n",
       "0                 11.0                  34.0   0.9978  3.51       0.56   \n",
       "1                 25.0                  67.0   0.9968  3.20       0.68   \n",
       "2                 15.0                  54.0   0.9970  3.26       0.65   \n",
       "3                 17.0                  60.0   0.9980  3.16       0.58   \n",
       "4                 11.0                  34.0   0.9978  3.51       0.56   \n",
       "\n",
       "   alcohol  quality  \n",
       "0      9.4        5  \n",
       "1      9.8        5  \n",
       "2      9.8        5  \n",
       "3      9.8        6  \n",
       "4      9.4        5  "
      ]
     },
     "execution_count": 1,
     "metadata": {},
     "output_type": "execute_result"
    }
   ],
   "source": [
    "import pandas as pd\n",
    "import numpy as np\n",
    "from sklearn.metrics import accuracy_score\n",
    "from sklearn.model_selection import train_test_split\n",
    "from sklearn.linear_model import LogisticRegression\n",
    "import seaborn as sns\n",
    "import matplotlib.pyplot as plt\n",
    "%matplotlib inline\n",
    "\n",
    "data = pd.read_csv('data/winequality-red.csv')\n",
    "data.head()"
   ]
  },
  {
   "cell_type": "markdown",
   "metadata": {},
   "source": [
    "# Visualizing Our Parameters\n",
    "\n",
    "By constructing single-variable plots of our data, we can gain a greater understanding of the range, distribution, and skew of the various predictor metrics we have available, and also of our target parameter, wine quality. For instance, we can see that many more wines receive scores of 5 or 6 than any other score."
   ]
  },
  {
   "cell_type": "code",
   "execution_count": 150,
   "metadata": {},
   "outputs": [
    {
     "data": {
      "image/png": "[encoded data removed]",
      "text/plain": [
       "<Figure size 432x288 with 12 Axes>"
      ]
     },
     "metadata": {},
     "output_type": "display_data"
    },
    {
     "data": {
      "image/png": "[encoded data removed]",
      "text/plain": [
       "<Figure size 432x288 with 1 Axes>"
      ]
     },
     "metadata": {},
     "output_type": "display_data"
    }
   ],
   "source": [
    "i = 0\n",
    "font = {'fontsize': 8 }\n",
    "for key in data:\n",
    "    i+= 1\n",
    "    plt.subplot(4,3,i)\n",
    "    if key == 'quality':\n",
    "        c = 'r'\n",
    "    else:\n",
    "        c = 'b'\n",
    "    density = sns.kdeplot(data[key], shade=True, legend=False, color=c)\n",
    "    plt.title(key, font, pad=2) # Format titles\n",
    "\n",
    "plt.subplots_adjust(wspace=0.5, hspace=0.7) # Set margins for subplots\n",
    "plt.show()\n",
    "\n",
    "density = sns.kdeplot(data['quality'], shade=True, legend=False, bw=.1, color='r')\n",
    "plt.title(\"Quality\")\n",
    "plt.show()"
   ]
  },
  {
   "cell_type": "markdown",
   "metadata": {},
   "source": [
    "# Categorizing Data\n",
    "In the dataset, quality is given as a score on a 1-10 scale. However, in order to train a model to predict and categorize this data, it makes sense to define our own, more general categories that allow the model to make more useful predictions. In essence, instead of expecting the model to exactly predict which score a particular wine receives, we expect it to make an approximate prediction of whether the wine will be good, bad, or mediocre. In addition, this means that when scoring our model, it doesn't need to get the score precisely correct - it gets credit for being within some margin of error represented by the size of the category.\n",
    "\n",
    "This data recategorization also acts as a measure to prevent overfitting our data; by generalizing our target, we ensure that the model doesn't try to be too specific.\n",
    "\n",
    "To this end, we parse the quality column into three categories as shown:\n",
    "\n",
    "| Quality score | Category |\n",
    "|---|---|\n",
    "| 1-4 | Low |\n",
    "| 5-6 | Medium |\n",
    "| 7-10 | High |\n",
    "\n",
    "The choice of boundaries here is informed by our visualization above - we can see that 5 and 6 are by far the most common scores, so we place them in their own category (medium). The model, then, is being trained to recognize the outliers: exceptionally bad or remarkably good wines."
   ]
  },
  {
   "cell_type": "code",
   "execution_count": 151,
   "metadata": {},
   "outputs": [],
   "source": [
    "y=[]\n",
    "for quality in data['quality']:\n",
    "    if quality < 4:\n",
    "        y.append('L')\n",
    "    elif quality < 7:\n",
    "        y.append('M')\n",
    "    else:\n",
    "        y.append('H')\n",
    "    #This process assigns 3 categories to the target data instead of the 10-point scale\n",
    "#X = data.drop(\"quality\", axis=1)"
   ]
  },
  {
   "cell_type": "markdown",
   "metadata": {},
   "source": [
    "# Selecting Predictors\n",
    "This dataset provides 11 different metrics that we can use to predict the quality of the wine, a lot for a single model to process. Instead of using all of these, we can instead choose a subset that best predict our target parameter."
   ]
  },
  {
   "cell_type": "code",
   "execution_count": 152,
   "metadata": {},
   "outputs": [
    {
     "data": {
      "image/png": "[encoded data removed]",
      "text/plain": [
       "<Figure size 432x288 with 1 Axes>"
      ]
     },
     "metadata": {},
     "output_type": "display_data"
    }
   ],
   "source": [
    "from sklearn.decomposition import PCA\n",
    "from sklearn import preprocessing\n",
    "\n",
    "normalized_data = pd.DataFrame(preprocessing.scale(data), columns=data.columns)\n",
    "\n",
    "pca = PCA().fit(normalized_data)\n",
    "a = np.arange(12)\n",
    "plt.bar(a, pca.explained_variance_ratio_)\n",
    "plt.title('Fraction of Variance Explained by Each Component')\n",
    "plt.xlabel('Component')\n",
    "plt.ylabel('Fraction of Total Variance')\n",
    "plt.show()"
   ]
  },
  {
   "cell_type": "code",
   "execution_count": 153,
   "metadata": {},
   "outputs": [
    {
     "data": {
      "text/html": [
       "<div>\n",
       "<style scoped>\n",
       "    .dataframe tbody tr th:only-of-type {\n",
       "        vertical-align: middle;\n",
       "    }\n",
       "\n",
       "    .dataframe tbody tr th {\n",
       "        vertical-align: top;\n",
       "    }\n",
       "\n",
       "    .dataframe thead th {\n",
       "        text-align: right;\n",
       "    }\n",
       "</style>\n",
       "<table border=\"1\" class=\"dataframe\">\n",
       "  <thead>\n",
       "    <tr style=\"text-align: right;\">\n",
       "      <th></th>\n",
       "      <th>fixed acidity</th>\n",
       "      <th>volatile acidity</th>\n",
       "      <th>citric acid</th>\n",
       "      <th>residual sugar</th>\n",
       "      <th>chlorides</th>\n",
       "      <th>free sulfur dioxide</th>\n",
       "      <th>total sulfur dioxide</th>\n",
       "      <th>density</th>\n",
       "      <th>pH</th>\n",
       "      <th>sulphates</th>\n",
       "      <th>alcohol</th>\n",
       "      <th>quality</th>\n",
       "    </tr>\n",
       "  </thead>\n",
       "  <tbody>\n",
       "    <tr>\n",
       "      <th>0</th>\n",
       "      <td>0.487883</td>\n",
       "      <td>-0.265129</td>\n",
       "      <td>0.473335</td>\n",
       "      <td>0.139154</td>\n",
       "      <td>0.197427</td>\n",
       "      <td>-0.045881</td>\n",
       "      <td>0.004067</td>\n",
       "      <td>0.370301</td>\n",
       "      <td>-0.432721</td>\n",
       "      <td>0.254535</td>\n",
       "      <td>-0.073177</td>\n",
       "      <td>0.112489</td>\n",
       "    </tr>\n",
       "    <tr>\n",
       "      <th>1</th>\n",
       "      <td>-0.004173</td>\n",
       "      <td>0.338968</td>\n",
       "      <td>-0.137358</td>\n",
       "      <td>0.167736</td>\n",
       "      <td>0.189788</td>\n",
       "      <td>0.259483</td>\n",
       "      <td>0.363971</td>\n",
       "      <td>0.330781</td>\n",
       "      <td>-0.065440</td>\n",
       "      <td>-0.109334</td>\n",
       "      <td>-0.502709</td>\n",
       "      <td>-0.473166</td>\n",
       "    </tr>\n",
       "    <tr>\n",
       "      <th>2</th>\n",
       "      <td>-0.164829</td>\n",
       "      <td>-0.227089</td>\n",
       "      <td>0.100229</td>\n",
       "      <td>0.243620</td>\n",
       "      <td>-0.026608</td>\n",
       "      <td>0.616111</td>\n",
       "      <td>0.540732</td>\n",
       "      <td>-0.168723</td>\n",
       "      <td>0.069771</td>\n",
       "      <td>0.212913</td>\n",
       "      <td>0.224971</td>\n",
       "      <td>0.223369</td>\n",
       "    </tr>\n",
       "    <tr>\n",
       "      <th>3</th>\n",
       "      <td>-0.231098</td>\n",
       "      <td>0.041858</td>\n",
       "      <td>-0.056736</td>\n",
       "      <td>-0.383038</td>\n",
       "      <td>0.654778</td>\n",
       "      <td>-0.033711</td>\n",
       "      <td>-0.028460</td>\n",
       "      <td>-0.200693</td>\n",
       "      <td>-0.005466</td>\n",
       "      <td>0.560502</td>\n",
       "      <td>-0.091701</td>\n",
       "      <td>-0.036669</td>\n",
       "    </tr>\n",
       "    <tr>\n",
       "      <th>4</th>\n",
       "      <td>-0.078779</td>\n",
       "      <td>0.299379</td>\n",
       "      <td>-0.120149</td>\n",
       "      <td>0.709363</td>\n",
       "      <td>0.266237</td>\n",
       "      <td>-0.159413</td>\n",
       "      <td>-0.218453</td>\n",
       "      <td>0.208793</td>\n",
       "      <td>0.257647</td>\n",
       "      <td>0.214835</td>\n",
       "      <td>0.259726</td>\n",
       "      <td>0.137584</td>\n",
       "    </tr>\n",
       "    <tr>\n",
       "      <th>5</th>\n",
       "      <td>0.055531</td>\n",
       "      <td>0.297287</td>\n",
       "      <td>0.136633</td>\n",
       "      <td>0.109311</td>\n",
       "      <td>0.337337</td>\n",
       "      <td>-0.042648</td>\n",
       "      <td>0.115954</td>\n",
       "      <td>-0.425667</td>\n",
       "      <td>-0.480354</td>\n",
       "      <td>-0.403743</td>\n",
       "      <td>0.392176</td>\n",
       "      <td>-0.141830</td>\n",
       "    </tr>\n",
       "    <tr>\n",
       "      <th>6</th>\n",
       "      <td>-0.307215</td>\n",
       "      <td>-0.626234</td>\n",
       "      <td>0.244149</td>\n",
       "      <td>0.283854</td>\n",
       "      <td>0.230547</td>\n",
       "      <td>-0.138260</td>\n",
       "      <td>-0.110209</td>\n",
       "      <td>-0.122546</td>\n",
       "      <td>0.185692</td>\n",
       "      <td>-0.233402</td>\n",
       "      <td>-0.121719</td>\n",
       "      <td>-0.412388</td>\n",
       "    </tr>\n",
       "    <tr>\n",
       "      <th>7</th>\n",
       "      <td>0.200529</td>\n",
       "      <td>0.146126</td>\n",
       "      <td>0.296333</td>\n",
       "      <td>-0.170626</td>\n",
       "      <td>-0.186923</td>\n",
       "      <td>-0.019356</td>\n",
       "      <td>0.089897</td>\n",
       "      <td>0.079500</td>\n",
       "      <td>0.314693</td>\n",
       "      <td>0.275492</td>\n",
       "      <td>0.471189</td>\n",
       "      <td>-0.612247</td>\n",
       "    </tr>\n",
       "    <tr>\n",
       "      <th>8</th>\n",
       "      <td>-0.174578</td>\n",
       "      <td>-0.060223</td>\n",
       "      <td>-0.220975</td>\n",
       "      <td>0.278187</td>\n",
       "      <td>-0.419936</td>\n",
       "      <td>-0.318000</td>\n",
       "      <td>0.121823</td>\n",
       "      <td>-0.249074</td>\n",
       "      <td>-0.461916</td>\n",
       "      <td>0.452689</td>\n",
       "      <td>-0.096528</td>\n",
       "      <td>-0.240243</td>\n",
       "    </tr>\n",
       "    <tr>\n",
       "      <th>9</th>\n",
       "      <td>-0.182956</td>\n",
       "      <td>0.155106</td>\n",
       "      <td>0.346086</td>\n",
       "      <td>-0.052237</td>\n",
       "      <td>-0.003863</td>\n",
       "      <td>-0.585389</td>\n",
       "      <td>0.589188</td>\n",
       "      <td>0.043538</td>\n",
       "      <td>0.207610</td>\n",
       "      <td>-0.071919</td>\n",
       "      <td>-0.110605</td>\n",
       "      <td>0.260240</td>\n",
       "    </tr>\n",
       "    <tr>\n",
       "      <th>10</th>\n",
       "      <td>-0.256438</td>\n",
       "      <td>0.377161</td>\n",
       "      <td>0.624328</td>\n",
       "      <td>0.088078</td>\n",
       "      <td>-0.208617</td>\n",
       "      <td>0.237933</td>\n",
       "      <td>-0.355047</td>\n",
       "      <td>-0.231453</td>\n",
       "      <td>-0.005599</td>\n",
       "      <td>0.097637</td>\n",
       "      <td>-0.319949</td>\n",
       "      <td>0.052466</td>\n",
       "    </tr>\n",
       "    <tr>\n",
       "      <th>11</th>\n",
       "      <td>0.638580</td>\n",
       "      <td>0.004662</td>\n",
       "      <td>-0.070037</td>\n",
       "      <td>0.183646</td>\n",
       "      <td>0.053931</td>\n",
       "      <td>-0.051922</td>\n",
       "      <td>0.069793</td>\n",
       "      <td>-0.566645</td>\n",
       "      <td>0.341230</td>\n",
       "      <td>0.067793</td>\n",
       "      <td>-0.317640</td>\n",
       "      <td>0.008470</td>\n",
       "    </tr>\n",
       "  </tbody>\n",
       "</table>\n",
       "</div>"
      ],
      "text/plain": [
       "    fixed acidity  volatile acidity  citric acid  residual sugar  chlorides  \\\n",
       "0        0.487883         -0.265129     0.473335        0.139154   0.197427   \n",
       "1       -0.004173          0.338968    -0.137358        0.167736   0.189788   \n",
       "2       -0.164829         -0.227089     0.100229        0.243620  -0.026608   \n",
       "3       -0.231098          0.041858    -0.056736       -0.383038   0.654778   \n",
       "4       -0.078779          0.299379    -0.120149        0.709363   0.266237   \n",
       "5        0.055531          0.297287     0.136633        0.109311   0.337337   \n",
       "6       -0.307215         -0.626234     0.244149        0.283854   0.230547   \n",
       "7        0.200529          0.146126     0.296333       -0.170626  -0.186923   \n",
       "8       -0.174578         -0.060223    -0.220975        0.278187  -0.419936   \n",
       "9       -0.182956          0.155106     0.346086       -0.052237  -0.003863   \n",
       "10      -0.256438          0.377161     0.624328        0.088078  -0.208617   \n",
       "11       0.638580          0.004662    -0.070037        0.183646   0.053931   \n",
       "\n",
       "    free sulfur dioxide  total sulfur dioxide   density        pH  sulphates  \\\n",
       "0             -0.045881              0.004067  0.370301 -0.432721   0.254535   \n",
       "1              0.259483              0.363971  0.330781 -0.065440  -0.109334   \n",
       "2              0.616111              0.540732 -0.168723  0.069771   0.212913   \n",
       "3             -0.033711             -0.028460 -0.200693 -0.005466   0.560502   \n",
       "4             -0.159413             -0.218453  0.208793  0.257647   0.214835   \n",
       "5             -0.042648              0.115954 -0.425667 -0.480354  -0.403743   \n",
       "6             -0.138260             -0.110209 -0.122546  0.185692  -0.233402   \n",
       "7             -0.019356              0.089897  0.079500  0.314693   0.275492   \n",
       "8             -0.318000              0.121823 -0.249074 -0.461916   0.452689   \n",
       "9             -0.585389              0.589188  0.043538  0.207610  -0.071919   \n",
       "10             0.237933             -0.355047 -0.231453 -0.005599   0.097637   \n",
       "11            -0.051922              0.069793 -0.566645  0.341230   0.067793   \n",
       "\n",
       "     alcohol   quality  \n",
       "0  -0.073177  0.112489  \n",
       "1  -0.502709 -0.473166  \n",
       "2   0.224971  0.223369  \n",
       "3  -0.091701 -0.036669  \n",
       "4   0.259726  0.137584  \n",
       "5   0.392176 -0.141830  \n",
       "6  -0.121719 -0.412388  \n",
       "7   0.471189 -0.612247  \n",
       "8  -0.096528 -0.240243  \n",
       "9  -0.110605  0.260240  \n",
       "10 -0.319949  0.052466  \n",
       "11 -0.317640  0.008470  "
      ]
     },
     "execution_count": 153,
     "metadata": {},
     "output_type": "execute_result"
    }
   ],
   "source": [
    "components = pd.DataFrame(pca.components_, columns=data.columns)\n",
    "components"
   ]
  },
  {
   "cell_type": "markdown",
   "metadata": {},
   "source": [
    "Here we use Principle Component Analysis to determine which features contribute least to the variation in our dataset. Once we identify these features, we can use the other parameters to make predictions, since they will likely be the best at predicting one another. We looked for variables that were not strongly correlated with the first two PCA components (which are the important ones) to remove from our dataset, so only important parameters would be included in our predictive model. In the end, we determined residual sugar, free sulfur dioxide, chlorides, and total sulfur dioxide were not important. "
   ]
  },
  {
   "cell_type": "markdown",
   "metadata": {},
   "source": [
    "# Logistic Regression Model\n",
    "A logistic regression attempts to catorize data using a logistic curve, and estimating the probability that a given set of parameters corresponds to each possible target value. In this case, the model attempts to determine the quality of each wine based on a set of 7 parameters that we ruled were somewhat important to important based off of the principal component analysis."
   ]
  },
  {
   "cell_type": "code",
   "execution_count": 154,
   "metadata": {},
   "outputs": [
    {
     "data": {
      "text/plain": [
       "LogisticRegression(C=1.0, class_weight=None, dual=False, fit_intercept=True,\n",
       "          intercept_scaling=1, max_iter=100, multi_class='ovr', n_jobs=1,\n",
       "          penalty='l2', random_state=None, solver='liblinear', tol=0.0001,\n",
       "          verbose=0, warm_start=False)"
      ]
     },
     "execution_count": 154,
     "metadata": {},
     "output_type": "execute_result"
    }
   ],
   "source": [
    "#X = data[['residual sugar','alcohol','free sulfur dioxide']]\n",
    "data = data.drop('residual sugar', axis = 1)\n",
    "data = data.drop('free sulfur dioxide', axis = 1)\n",
    "data = data.drop('chlorides', axis = 1)\n",
    "data = data.drop('total sulfur dioxide', axis = 1)\n",
    "\n",
    "X = data.drop(\"quality\", axis=1)\n",
    "X_train, X_test, y_train, y_test = train_test_split(X, y, test_size=0.2)\n",
    "logModel = LogisticRegression()\n",
    "logModel.fit(X_train, y_train)"
   ]
  },
  {
   "cell_type": "code",
   "execution_count": 155,
   "metadata": {},
   "outputs": [],
   "source": [
    "pred_logModel = logModel.predict(X_test)"
   ]
  },
  {
   "cell_type": "code",
   "execution_count": 156,
   "metadata": {},
   "outputs": [
    {
     "name": "stdout",
     "output_type": "stream",
     "text": [
      "Logistic Regression Model Accuracy: 0.871875\n"
     ]
    }
   ],
   "source": [
    "score = accuracy_score(y_true = y_test, y_pred = pred_logModel)\n",
    "print(\"Logistic Regression Model Accuracy: \" + str(score))"
   ]
  },
  {
   "cell_type": "markdown",
   "metadata": {},
   "source": [
    "# K-Nearest Neighbors Algorithm\n",
    "The KNN algorithm is designed to classify members of dataset into a number of discrete categories. Ideally, a perfect classifier could provide the likelihood that a given observation would fit into each possible category. While this is impossible, most algorithms provide some comparable metric.\n",
    "\n",
    "The K-Nearest Neighbor Algorithm in particular uses the points nearest to each observation to attempt to predict its classification. The algorithm's name comes from a parameter K which determines how many of these neighbors are used to classify each point."
   ]
  },
  {
   "cell_type": "code",
   "execution_count": 157,
   "metadata": {},
   "outputs": [],
   "source": [
    "from sklearn.neighbors import KNeighborsClassifier\n",
    "from sklearn.tree import DecisionTreeClassifier\n",
    "from sklearn.tree import export_graphviz"
   ]
  },
  {
   "cell_type": "code",
   "execution_count": 158,
   "metadata": {},
   "outputs": [
    {
     "name": "stdout",
     "output_type": "stream",
     "text": [
      "KNN score: 0.855\n"
     ]
    }
   ],
   "source": [
    "x_train, x_test, y_train, y_test = train_test_split(X,y, test_size=0.25)\n",
    "model = KNeighborsClassifier()\n",
    "model.fit(x_train, y_train)\n",
    "predictions = model.predict(x_test)\n",
    "knn_score = accuracy_score(y_test, predictions)\n",
    "print(\"KNN score: \" + str(knn_score))"
   ]
  },
  {
   "cell_type": "markdown",
   "metadata": {},
   "source": [
    "# Decision Tree Classifier\n",
    "A decision tree classifier uses the data to build a \"decision tree\" with a series of nodes and edges which act as a flowchart for the algorithm to classify each point. This classifier does not assume a linear correlation in the data set, making it more generally applicable.\n",
    "\n",
    "Here, we use a Decision Tree Classifier to attempt to classify wines as Low, Medium, or High quality."
   ]
  },
  {
   "cell_type": "code",
   "execution_count": 159,
   "metadata": {},
   "outputs": [
    {
     "name": "stdout",
     "output_type": "stream",
     "text": [
      "Decision Tree score: 0.8675\n"
     ]
    }
   ],
   "source": [
    "model = DecisionTreeClassifier()\n",
    "model.fit(x_train, y_train)\n",
    "predictions = model.predict(x_test)\n",
    "decision_tree_score = accuracy_score(y_test, predictions)\n",
    "print(\"Decision Tree score: \" + str(decision_tree_score))"
   ]
  },
  {
   "cell_type": "markdown",
   "metadata": {},
   "source": [
    "# Examining the KNN Classifier\n",
    "Here we look to analyze the accuracy of the KNN classifier. The parameter k used by KNN can be tuned to find the best model - generally a very low k results in overfitting, while a very high k will result in underfitting. Consequently, some maximum exists between these extremes where the model is most accurate. "
   ]
  },
  {
   "cell_type": "code",
   "execution_count": null,
   "metadata": {},
   "outputs": [],
   "source": []
  },
  {
   "cell_type": "code",
   "execution_count": 160,
   "metadata": {},
   "outputs": [
    {
     "name": "stdout",
     "output_type": "stream",
     "text": [
      "accuracy: 0.855\n",
      "baseline: 0.875\n",
      "improvement -0.022857142857142878\n"
     ]
    }
   ],
   "source": [
    "from sklearn.metrics import accuracy_score\n",
    "\n",
    "accuracy = knn_score\n",
    "print('accuracy:', accuracy)\n",
    "\n",
    "#y_train.describe()\n",
    "#y_test.describe()\n",
    "base_array = np.full(400, 'M')\n",
    "\n",
    "baseline = accuracy_score(y_test, base_array)\n",
    "print('baseline:',baseline)\n",
    "\n",
    "improvement = (accuracy - baseline) / baseline\n",
    "print('improvement',improvement)"
   ]
  },
  {
   "cell_type": "code",
   "execution_count": 161,
   "metadata": {},
   "outputs": [
    {
     "data": {
      "image/png": "[encoded data removed]",
      "text/plain": [
       "<Figure size 432x288 with 1 Axes>"
      ]
     },
     "metadata": {},
     "output_type": "display_data"
    }
   ],
   "source": [
    "%matplotlib inline\n",
    "from sklearn.metrics import accuracy_score\n",
    "accuracy = []\n",
    "max_k = 40\n",
    "for k in range(1, max_k):\n",
    "    model = KNeighborsClassifier(k)\n",
    "    model.fit(x_train, y_train)\n",
    "    predictions = model.predict(x_test)\n",
    "    accuracy.append(accuracy_score(predictions, y_test))\n",
    "    \n",
    "plt.plot(range(1,max_k),accuracy)\n",
    "plt.xlabel(\"K value\")\n",
    "plt.ylabel(\"Model Accuracy\")\n",
    "plt.title(\"Optimizing k\")\n",
    "#plt.ylim([0.58, 0.70])\n",
    "#plt.xticks(range(1,31,2),range(1,31,2))\n",
    "plt.grid()"
   ]
  },
  {
   "cell_type": "markdown",
   "metadata": {},
   "source": [
    "Here, a number of factors are at play. Most obviously, because so much of the data clumps at 5 and 6, in the \"Medium\" category, the baseline (assuming that all wines are of \"Medium\" quality) performs exceptionally well, with an accuracy of 87.5%. As a result, most solutions generated by the model tend to overfit when compared to this solution, resulting in lower scores. In essence, because the simplest solution is so accurate, any more complex model seems to \"overthink\" the prediction in comparison.\n",
    "\n",
    "This is most clear in the plot shown - we have established that as k increases, broadening the algorithm's scope, it tends to underfit the data. In this chart, it becomes clear that the algorithm's accuracy generally increases with k; as its solution becomes more general, it aproaches the baseline accuracy of 87.5%. This demonstrates the core issue - that the simple solution is so effective that it outperforms any more nuanced prediction algorithm."
   ]
  },
  {
   "cell_type": "markdown",
   "metadata": {},
   "source": [
    "# Reclassifying Data\n",
    "By reclassifying the data into two categories, High and Low, we can separate the predominant 5 and 6 scores into separate categories, and ensure that no single category contains too much of the data. In doing so, the baseline classifier is only 50% effective, and the more complex KNN classifier has the chance to be much more effective."
   ]
  },
  {
   "cell_type": "code",
   "execution_count": 162,
   "metadata": {},
   "outputs": [],
   "source": [
    "y_2=[]\n",
    "for quality in data['quality']:\n",
    "    if quality <= 5:\n",
    "        y_2.append('L')\n",
    "    elif quality >= 6:\n",
    "        y_2.append('H')\n",
    "\n",
    "x_train, x_test, y_train, y_test = train_test_split(X, y_2, test_size=0.25)"
   ]
  },
  {
   "cell_type": "code",
   "execution_count": 163,
   "metadata": {},
   "outputs": [
    {
     "name": "stdout",
     "output_type": "stream",
     "text": [
      "baseline: 0.4675\n"
     ]
    }
   ],
   "source": [
    "base_array = np.full(400, 'L')\n",
    "baseline = accuracy_score(y_test, base_array)\n",
    "print('baseline:',baseline)"
   ]
  },
  {
   "cell_type": "code",
   "execution_count": 164,
   "metadata": {},
   "outputs": [
    {
     "data": {
      "image/png": "[encoded data removed]",
      "text/plain": [
       "<Figure size 432x288 with 1 Axes>"
      ]
     },
     "metadata": {},
     "output_type": "display_data"
    }
   ],
   "source": [
    "%matplotlib inline\n",
    "from sklearn.metrics import accuracy_score\n",
    "accuracy = []\n",
    "max_k = 38\n",
    "for k in range(1, max_k):\n",
    "    model = KNeighborsClassifier(k)\n",
    "    model.fit(x_train, y_train)\n",
    "    predictions = model.predict(x_test)\n",
    "    accuracy.append(accuracy_score(predictions, y_test))\n",
    "    \n",
    "plt.plot(range(1,max_k),accuracy)\n",
    "plt.title(\"Optimizing k - 2 Categories\")\n",
    "plt.xlabel(\"K value\")\n",
    "plt.ylabel(\"Model Accuracy\")\n",
    "plt.grid()"
   ]
  },
  {
   "cell_type": "markdown",
   "metadata": {},
   "source": [
    "Looking at the same visualization done with our two-category classifier, we can see that the KNN classifier is much more effective now that the data is more evenly spread between the categories. With only two classes, our model no longer skews toward simplicity - a more nuanced approach is necessary. In this case, we prefer a k-value of 21, where the model accuracy is greatest."
   ]
  }
 ],
 "metadata": {
  "kernelspec": {
   "display_name": "Python 3",
   "language": "python",
   "name": "python3"
  },
  "language_info": {
   "codemirror_mode": {
    "name": "ipython",
    "version": 3
   },
   "file_extension": ".py",
   "mimetype": "text/x-python",
   "name": "python",
   "nbconvert_exporter": "python",
   "pygments_lexer": "ipython3",
   "version": "3.6.5"
  }
 },
 "nbformat": 4,
 "nbformat_minor": 2
}
