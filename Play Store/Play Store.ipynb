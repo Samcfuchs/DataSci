{
 "cells": [
  {
   "cell_type": "code",
   "execution_count": 10,
   "metadata": {},
   "outputs": [],
   "source": [
    "import numpy as np\n",
    "import pandas as pd\n",
    "import matplotlib.pyplot as plt\n",
    "import seaborn as sns\n",
    "import datetime\n",
    "%matplotlib inline"
   ]
  },
  {
   "cell_type": "code",
   "execution_count": 9,
   "metadata": {},
   "outputs": [
    {
     "data": {
      "text/plain": [
       "0           January 7, 2018\n",
       "1          January 15, 2018\n",
       "2            August 1, 2018\n",
       "3              June 8, 2018\n",
       "4             June 20, 2018\n",
       "5            March 26, 2017\n",
       "6            April 26, 2018\n",
       "7             June 14, 2018\n",
       "8        September 20, 2017\n",
       "9              July 3, 2018\n",
       "10         October 27, 2017\n",
       "11            July 31, 2018\n",
       "12            April 2, 2018\n",
       "13            June 26, 2018\n",
       "14           August 3, 2018\n",
       "15             June 6, 2018\n",
       "16            July 31, 2018\n",
       "17         November 7, 2017\n",
       "18           August 3, 2018\n",
       "19            July 30, 2018\n",
       "20           April 20, 2018\n",
       "21           March 20, 2018\n",
       "22            July 12, 2018\n",
       "23            March 7, 2018\n",
       "24             July 7, 2018\n",
       "25           April 25, 2018\n",
       "26         October 11, 2017\n",
       "27           March 21, 2018\n",
       "28            July 12, 2018\n",
       "29          August 22, 2017\n",
       "                ...        \n",
       "10811         July 24, 2018\n",
       "10812         June 13, 2018\n",
       "10813         July 17, 2018\n",
       "10814          June 3, 2015\n",
       "10815         July 19, 2018\n",
       "10816        August 6, 2018\n",
       "10817      October 30, 2015\n",
       "10818          May 19, 2016\n",
       "10819        August 5, 2017\n",
       "10820         June 27, 2018\n",
       "10821          May 29, 2018\n",
       "10822      December 1, 2017\n",
       "10823        April 22, 2018\n",
       "10824         July 31, 2018\n",
       "10825      February 2, 2018\n",
       "10826        March 23, 2018\n",
       "10827         June 13, 2018\n",
       "10828          May 15, 2017\n",
       "10829         June 19, 2016\n",
       "10830      January 20, 2014\n",
       "10831         June 13, 2018\n",
       "10832     February 16, 2014\n",
       "10833        March 23, 2014\n",
       "10834         June 18, 2017\n",
       "10835    September 29, 2016\n",
       "10836         July 25, 2017\n",
       "10837          July 6, 2018\n",
       "10838      January 20, 2017\n",
       "10839      January 19, 2015\n",
       "10840         July 25, 2018\n",
       "Name: Last Updated, Length: 10841, dtype: object"
      ]
     },
     "execution_count": 9,
     "metadata": {},
     "output_type": "execute_result"
    }
   ],
   "source": [
    "df = pd.read_csv(\"data/googleplaystore.csv\")\n",
    "df[\"Last Updated (dates)\"] = datetime.strptime()"
   ]
  }
 ],
 "metadata": {
  "kernelspec": {
   "display_name": "Python 3",
   "language": "python",
   "name": "python3"
  },
  "language_info": {
   "codemirror_mode": {
    "name": "ipython",
    "version": 3
   },
   "file_extension": ".py",
   "mimetype": "text/x-python",
   "name": "python",
   "nbconvert_exporter": "python",
   "pygments_lexer": "ipython3",
   "version": "3.6.5"
  }
 },
 "nbformat": 4,
 "nbformat_minor": 2
}
